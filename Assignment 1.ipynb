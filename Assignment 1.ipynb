{
 "cells": [
  {
   "cell_type": "markdown",
   "metadata": {},
   "source": [
    "# Assignment 1 - Probability, Linear Algebra, Programming, and Git\n",
    "\n",
    "## *Morgan Ringel*\n",
    "Netid:  *mjr52*"
   ]
  },
  {
   "cell_type": "markdown",
   "metadata": {},
   "source": [
    "# Probability and Statistics Theory"
   ]
  },
  {
   "cell_type": "markdown",
   "metadata": {
    "collapsed": true
   },
   "source": [
    "## 1\n",
    "Let $f(x) = \\begin{cases}\n",
    "                0           & x < 0  \\\\\n",
    "                \\alpha x^2  & 0 \\leq x \\leq 2 \\\\\n",
    "                0           & 2 < x\n",
    "            \\end{cases}$\n",
    "            \n",
    "For what value of $\\alpha$ is $f(x)$ a valid probability density function?\n",
    "\n",
    "*Note: for all assignments, write out all equations and math for all assignments using markdown and [LaTeX](https://tobi.oetiker.ch/lshort/lshort.pdf) and show all work*"
   ]
  },
  {
   "cell_type": "markdown",
   "metadata": {},
   "source": [
    "**ANSWER** \n",
    "\n",
    "To be a valid probability density function:\n",
    "\n",
    "$ \\int_{0}^{2} \\alpha x^2 dx = 1 \\\\\n",
    "\\tfrac{1}{3} x^3 \\Big|_0^2  = 1 \\\\\n",
    "\\tfrac{8}{3} \\alpha = 1 \\\\\n",
    "\\alpha = \\tfrac{3}{8}$\n",
    "\n",
    "\n",
    "\n"
   ]
  },
  {
   "cell_type": "markdown",
   "metadata": {},
   "source": [
    "## 2\n",
    "What is the cumulative distribution function (CDF) that corresponds to the following probability distribution function? Please state the value of the CDF for all possible values of $x$.\n",
    "\n",
    "$f(x) = \\begin{cases}\n",
    "    \\frac{1}{3} & 0 < x < 3 \\\\\n",
    "    0           & \\text{otherwise}\n",
    "    \\end{cases}$"
   ]
  },
  {
   "cell_type": "markdown",
   "metadata": {},
   "source": [
    "**ANSWER**\n",
    "\n",
    "The cumulative distribution function (CDF):\n",
    "\n",
    "$g(x) = \\begin{cases}\n",
    "    \\frac{1}{3}x & 0 < x < 3 \\\\\n",
    "    0           & \\text{otherwise}\n",
    "    \\end{cases}$\n",
    "\n"
   ]
  },
  {
   "cell_type": "markdown",
   "metadata": {},
   "source": [
    "## 3\n",
    "For the probability distribution function for the random variable $X$,\n",
    "\n",
    "$f(x) = \\begin{cases}\n",
    "    \\frac{1}{3} & 0 < x < 3 \\\\\n",
    "    0           & \\text{otherwise}\n",
    "    \\end{cases}$\n",
    "    \n",
    "what is the (a) expected value and (b) variance of $X$. *Show all work*."
   ]
  },
  {
   "cell_type": "markdown",
   "metadata": {},
   "source": [
    "**ANSWER**\n",
    "\n",
    "(a) Expected value:\n",
    "\n",
    "$E(x) = \\int^{\\infty}_{-\\infty} x f(x)  dx  \\\\\n",
    "E(x) = \\int_{0}^{3} \\tfrac{1}{3} x dx \\\\\n",
    "E(x) =\\tfrac{1}{6} x^2 \\Big|_0^3  \\\\\n",
    "E(x) = 1.5$\n",
    "\n",
    "\n",
    "(b) Variance:\n",
    "\n",
    "$V(x) = \\int^{\\infty}_{-\\infty} (x-\\mu)^2 f(x) dx \\\\\n",
    "V(x) = \\int_{0}^{3} (x - \\tfrac{3}{2})^2 * \\tfrac{1}{3} dx\\\\\n",
    "V(x) = \\tfrac{1}{3} \\int_{0}^{3} x^2 - 3x + \\tfrac{9}{4} dx\\\\\n",
    "V(x) = \\tfrac{1}{3} [\\tfrac{1}{3}x^3 - \\tfrac{3}{2}x^2 + \\tfrac{9}{4}x]\\Big|_0^3 \\\\\n",
    "V(x) = 0.75\n",
    "$\n",
    "\n"
   ]
  },
  {
   "cell_type": "markdown",
   "metadata": {},
   "source": [
    "## 4\n",
    "Consider the following table of data that provides the values of a discrete data vector $\\mathbf{x}$ of samples from the random variable $X$, where each entry in $\\mathbf{x}$ is given as $x_i$.\n",
    "\n",
    "*Table 1. Dataset N=5 observations*\n",
    "\n",
    "|        | $x_0$ | $x_1$ | $x_2$ | $x_3$ | $x_4$ |\n",
    "|------  |-------|-------|-------|-------|-------|\n",
    "|$\\textbf{x}$| 2     | 3     | 10    | -1    | -1    |\n",
    "\n",
    "What is the (a) mean, (b) variance, and the  of the data? \n",
    "\n",
    "*Show all work. Your answer should include the definition of mean, median, and variance in the context of discrete data.*"
   ]
  },
  {
   "cell_type": "markdown",
   "metadata": {},
   "source": [
    "**ANSWER**\n",
    "\n",
    "(a) Mean\n",
    "\n",
    "$ \\bar{x} = \\tfrac{\\sum_{i = 0}^{i = n-1} x_i}{n} \\\\\n",
    "\\bar{x} = \\tfrac{2+3+10-1-1}{5} \\\\\n",
    "\\bar{x} = 2.6$\n",
    "\n",
    "\n",
    "\n",
    "(b) Variance\n",
    "\n",
    "$\\sigma^2 = \\tfrac{\\sum_{i=0}^{i= n-1}(x_i - \\bar{x})^2}{n-1} \\\\\n",
    "\\sigma^2 = \\tfrac{0.36+0.16+54.76+12.96+12.96}{4} \\\\\n",
    "\\sigma^2 = 20.3$\n",
    "\n"
   ]
  },
  {
   "cell_type": "markdown",
   "metadata": {},
   "source": [
    "## 5\n",
    "Review of counting from probability theory. \n",
    "\n",
    "(a) How many different 7-place licence plates are possible if the first 3 places only contain letters and te last 4 only contain numbers?\n",
    "\n",
    "(b) How many different batting orders are possible for a baseball team with 9 players?\n",
    "\n",
    "(c) How many batting orders of 5 players are possible for a team with 9 players total?\n",
    "\n",
    "(d) Let's assume this class has 26 students and we want to form project teams. How many unique teams of 3 are possible?\n",
    "\n",
    "*Hint: For each problem, determine if order matters, and if it should be calculated with or without replacement.*"
   ]
  },
  {
   "cell_type": "markdown",
   "metadata": {},
   "source": [
    "**ANSWER**\n",
    "\n",
    "(a) $26^3 \\times 10^4 = 175,760,000$\n",
    "\n",
    "(b) $9! = 362,880$\n",
    "\n",
    "(c) $\\tfrac{(9)!}{(9-5)!} = 15,120 $\n",
    "\n",
    "(d) $\\tfrac{(26)!}{(3)!(26-3)!} = 2,600$\n"
   ]
  },
  {
   "cell_type": "markdown",
   "metadata": {},
   "source": [
    "# Linear Algebra"
   ]
  },
  {
   "cell_type": "markdown",
   "metadata": {},
   "source": [
    "## 6\n",
    "**Matrix manipulations and multiplication**. Machine learning involves working with many matrices, so this exercise will provide you with the opportunity to practice those skills.\n",
    "\n",
    "Let\n",
    "$\\mathbf{A} =  \\begin{bmatrix}\n",
    "1 & 2 & 3 \\\\\n",
    "2 & 4 & 5 \\\\\n",
    "3 & 5 & 6 \n",
    "\\end{bmatrix}$, $\\mathbf{b} =  \\begin{bmatrix}\n",
    "-1  \\\\\n",
    "3  \\\\\n",
    "8  \n",
    "\\end{bmatrix}$, $\\mathbf{c} =  \\begin{bmatrix}\n",
    "4  \\\\\n",
    "-3  \\\\\n",
    "6  \n",
    "\\end{bmatrix}$, and $\\mathbf{I} =  \\begin{bmatrix}\n",
    "1 & 0 & 0 \\\\\n",
    "0 & 1 & 0 \\\\\n",
    "0 & 0 & 1 \n",
    "\\end{bmatrix}$\n",
    "\n",
    "Compute the following or indicate that it cannot be computed:\n",
    "\n",
    "1. $\\mathbf{A}\\mathbf{A}$\n",
    "2. $\\mathbf{A}\\mathbf{A}^T$\n",
    "3. $\\mathbf{A}\\mathbf{b}$\n",
    "4. $\\mathbf{A}\\mathbf{b}^T$\n",
    "5. $\\mathbf{b}\\mathbf{A}$\n",
    "6. $\\mathbf{b}^T\\mathbf{A}$\n",
    "7. $\\mathbf{b}\\mathbf{b}$\n",
    "8. $\\mathbf{b}^T\\mathbf{b}$\n",
    "9. $\\mathbf{b}\\mathbf{b}^T$\n",
    "10. $\\mathbf{b} + \\mathbf{c}^T$\n",
    "11. $\\mathbf{b}^T\\mathbf{b}^T$\n",
    "12. $\\mathbf{A}^{-1}\\mathbf{b}$\n",
    "13. $\\mathbf{A}\\circ\\mathbf{A}$\n",
    "14. $\\mathbf{b}\\circ\\mathbf{c}$\n",
    "\n",
    "*Note: The element-wise (or Hadamard) product is the product of each element in one matrix with the corresponding element in another matrix, and is represented by the symbol \"$\\circ$\".*"
   ]
  },
  {
   "cell_type": "markdown",
   "metadata": {},
   "source": [
    "**ANSWER**\n",
    "\n",
    "I did these calculations by hand.\n",
    "\n",
    "1. $\\mathbf{A}\\mathbf{A} = \\begin{bmatrix} 14 & 25 & 31 \\\\ 25 & 45 & 56 \\\\ 31 & 56 & 70 \\end{bmatrix}$\n",
    "2. $\\mathbf{A}\\mathbf{A}^T  = \\begin{bmatrix} 14 & 25 & 31 \\\\ 25 & 45 & 56 \\\\ 31 & 56 & 70 \\end{bmatrix}$\n",
    "3. $\\mathbf{A}\\mathbf{b} = \\begin{bmatrix} 29\\\\ 50 \\\\ 60 \\end{bmatrix}$\n",
    "4. $\\mathbf{A}\\mathbf{b}^T =$ Cannot be computed \n",
    "5. $\\mathbf{b}\\mathbf{A} =$ Cannot be computed\n",
    "6. $\\mathbf{b}^T\\mathbf{A} = \\begin{bmatrix} 29 & 50 & 60  \\end{bmatrix}$\n",
    "7. $\\mathbf{b}\\mathbf{b}=$ Cannot be computed\n",
    "8. $\\mathbf{b}^T\\mathbf{b} = \\begin{bmatrix} 74 \\end{bmatrix}$\n",
    "9. $\\mathbf{b}\\mathbf{b}^T = \\begin{bmatrix} 1 & -3 & -8 \\\\ -3 & 9 & 24 \\\\ -8 & 24 & 64 \\end{bmatrix}$\n",
    "10. $\\mathbf{b} + \\mathbf{c}^T = $ Cannot be computed\n",
    "11. $\\mathbf{b}^T\\mathbf{b}^T = $ Cannot be computed\n",
    "12. $\\mathbf{A}^{-1}\\mathbf{b} = \\begin{bmatrix} 6 \\\\ 4 \\\\ -5 \\end{bmatrix}$\n",
    "13. $\\mathbf{A}\\circ\\mathbf{A} = \\begin{bmatrix} 1 & 4 & 9 \\\\ 4 & 16 & 25 \\\\ 9 & 25 & 36 \\end{bmatrix}$\n",
    "14. $\\mathbf{b}\\circ\\mathbf{c} = \\begin{bmatrix} -4 \\\\ -9 \\\\ 48 \\end{bmatrix}$\n",
    "\n"
   ]
  },
  {
   "cell_type": "markdown",
   "metadata": {},
   "source": [
    "## 6\n",
    "**Eigenvectors and eigenvalues**. Eigenvectors and eigenvalues are useful for some machine learning algorithms, but the concepts take time to solidly grasp. For an intuitive review of these concepts, explore this [interactive website at Setosa.io](http://setosa.io/ev/eigenvectors-and-eigenvalues/). Also, the series of linear algebra videos by Grant Sanderson of 3Brown1Blue are excellent and can be viewed on youtube [here](https://www.youtube.com/playlist?list=PLZHQObOWTQDPD3MizzM2xVFitgF8hE_ab).\n",
    "\n",
    "1. Calculate the eigenvalues and corresponding eigenvectors of matrix $\\mathbf{A}$ above, from the last question.\n",
    "2. Choose one of the eigenvector/eigenvalue pairs, $\\mathbf{v}$ and $\\lambda$, and show that $\\mathbf{A} \\mathbf{v} = \\lambda \\mathbf{v}$. Also show that this relationship extends to higher orders: $\\mathbf{A} \\mathbf{A} \\mathbf{v} = \\lambda^2 \\mathbf{v}$\n",
    "3. Show that the eigenvectors are orthogonal to one another (e.g. their inner product is zero). This is true for real, symmetric matrices."
   ]
  },
  {
   "cell_type": "markdown",
   "metadata": {},
   "source": [
    "**ANSWER**\n",
    "\n"
   ]
  },
  {
   "cell_type": "code",
   "execution_count": 17,
   "metadata": {},
   "outputs": [
    {
     "name": "stdout",
     "output_type": "stream",
     "text": [
      "1. \n",
      "The eigenvalues are [ 11.34481428  -0.51572947   0.17091519] and the cooresponing eigenvectors are \n",
      "[-0.32798528 -0.59100905 -0.73697623], [-0.73697623 -0.32798528  0.59100905], and [ 0.59100905 -0.73697623  0.32798528].\n",
      "\n",
      "2. \n",
      "Choose eigenvalue 11.344814282762082 and eigenvector [-0.32798528 -0.59100905 -0.73697623]. \n",
      "Av=[-3.72093206 -6.70488789 -8.36085845] and lambda*v=[-3.72093206 -6.70488789 -8.36085845].\n",
      "This proves that Av=lambda*v.\n",
      "AAv=[-42.2132832  -76.06570795 -94.85238636] and lambda^2*v=[-42.2132832  -76.06570795 -94.85238636].\n",
      "This proves that AA*v=lambda^2*v\n",
      "\n",
      "3.\n",
      "-0.0 -0.0 -0.0\n",
      "As seen in the code above, the inner products of the eigenvectors are all zero, proving that they are orthogonal.\n"
     ]
    }
   ],
   "source": [
    "import numpy as np\n",
    "A = np.array([[1, 2, 3], [2, 4, 5], [3, 5, 6]])\n",
    "\n",
    "#1\n",
    "w, v = np.linalg.eig(A)\n",
    "v = v.T\n",
    "print(\"1. \")\n",
    "print(\"The eigenvalues are {} and the cooresponing eigenvectors are \".format(w))\n",
    "print(\"{}, {}, and {}.\".format(v[0], v[1], v[2]))\n",
    "print(\"\")\n",
    "\n",
    "#2\n",
    "Av = np.dot(A, v[0].T)\n",
    "lambdav = w[0]*v[0]\n",
    "A2v = np.dot(A, Av)\n",
    "lambda2v = w[0]*lambdav\n",
    "print(\"2. \")\n",
    "print(\"Choose eigenvalue {} and eigenvector {}. \".format(w[0], v[0]))\n",
    "print(\"Av={} and lambda*v={}.\".format(Av, lambdav))\n",
    "print(\"This proves that Av=lambda*v.\")\n",
    "print(\"AAv={} and lambda^2*v={}.\".format(A2v, lambda2v))\n",
    "print(\"This proves that AA*v=lambda^2*v\")\n",
    "print(\"\")\n",
    "\n",
    "#3\n",
    "i01 = round(np.inner(v[0], v[1]), 5)\n",
    "i02 = round(np.inner(v[0], v[2]), 5)\n",
    "i12 = round(np. inner(v[1], v[2]), 5)\n",
    "print(\"3.\")\n",
    "print( i01, i02, i12)\n",
    "print(\"As seen in the code above, the inner products of the eigenvectors are all zero, proving that they are orthogonal.\")\n",
    "\n"
   ]
  },
  {
   "cell_type": "markdown",
   "metadata": {},
   "source": [
    "# Numerical Programming"
   ]
  },
  {
   "cell_type": "markdown",
   "metadata": {},
   "source": [
    "## 7\n",
    "Speed comparison between vectorized and non-vectorized code. Begin by creating an array of 10 million random numbers using the numpy random.randn module. Compute the sum of the squares first in a for loop, then using Numpy's `dot` module. Time how long it takes to compute each and report the results and report the output. How many times faster is the vectorized code than the for loop approach?\n",
    "\n",
    "*Note: all code should be well commented, properly formatted, and your answers should be output using the `print()` function as follows (where the # represents your answers, to a reasonable precision):\n",
    "\n",
    "`Time [sec] (non-vectorized): ######`\n",
    "\n",
    "`Time [sec] (vectorized):     ######`\n",
    "\n",
    "`The vectorized code is ##### times faster than the vectorized code`"
   ]
  },
  {
   "cell_type": "markdown",
   "metadata": {},
   "source": [
    "**ANSWER**"
   ]
  },
  {
   "cell_type": "code",
   "execution_count": 2,
   "metadata": {},
   "outputs": [
    {
     "name": "stdout",
     "output_type": "stream",
     "text": [
      "Time [sec] (non-vectorized): 4.337411\n",
      "Time [sec] (vectorized): 0.015629\n",
      "The vectorized code is 277.522325 times faster than the non-vectorized code\n"
     ]
    }
   ],
   "source": [
    "import numpy as np\n",
    "import time\n",
    "\n",
    "# Generate the random samples\n",
    "sample = np.random.randn(10000000)\n",
    "\n",
    "# Compute the sum of squares the non-vectorized way (using a for loop)\n",
    "sum = 0\n",
    "t0 = time.time()\n",
    "for x in sample:\n",
    "    sum = sum + x**2\n",
    "t1 = time.time()\n",
    "time1 = t1 - t0\n",
    "\n",
    "# Compute the sum of squares the vectorized way (using numpy)\n",
    "t0 = time.time()\n",
    "sum2 = np.dot(sample, sample)\n",
    "t1 = time.time()\n",
    "time2 = t1 - t0\n",
    "diff = time1/time2 \n",
    "\n",
    "# Print the results\n",
    "print(\"Time [sec] (non-vectorized): \" + '{:.6f}'.format(time1))\n",
    "print(\"Time [sec] (vectorized): \" + '{:.6f}'.format(time2))\n",
    "print(\"The vectorized code is {:.6f} times faster than the non-vectorized code\".format(diff))\n"
   ]
  },
  {
   "cell_type": "markdown",
   "metadata": {},
   "source": [
    "## 8\n",
    "One popular Agile development framework is Scrum (a paradigm recommended for data science projects). It emphasizes the continual evolution of code for projects, becoming progressively better, but starting with a quickly developed minimum viable product. This often means that code written early on is not optimized, and that's a good thing - it's best to get it to work first before optimizing. Imagine that you wrote the following code during a sprint towards getting an end-to-end system working. Vectorize the following code and show the difference in speed between the current implementation and a vectorized version.\n",
    "\n",
    "The function below computes the function $f(x,y) = x^2 - 2 y^2$ and determines whether this quantity is above or below a given threshold, `thresh=0`. This is done for $x,y \\in \\{-4,4\\}$, with 2,000 samples in each direction.\n",
    "\n",
    "(a) Vectorize this code and demonstrate (as in the last exercise) the speed increase through vectorization and (b) plot the resulting data - both the function $f(x,y)$ and the thresholded output - using [`imshow`](https://matplotlib.org/api/_as_gen/matplotlib.pyplot.imshow.html?highlight=matplotlib%20pyplot%20imshow#matplotlib.pyplot.imshow) from `matplotlib`.\n",
    "\n",
    "*Hint: look at the `numpy` [`meshgrid`](https://docs.scipy.org/doc/numpy-1.13.0/reference/generated/numpy.meshgrid.html) documentation*"
   ]
  },
  {
   "cell_type": "markdown",
   "metadata": {},
   "source": [
    "**ANSWER**"
   ]
  },
  {
   "cell_type": "code",
   "execution_count": 6,
   "metadata": {},
   "outputs": [
    {
     "name": "stdout",
     "output_type": "stream",
     "text": [
      "a) Time [sec] (non-vectorized): 1.742635\n",
      "Time [sec] (vectorized): 0.004011\n",
      "The vectorized code is 434.472983 times faster than the non-vectorized code\n",
      "\n",
      "b)\n"
     ]
    },
    {
     "data": {
      "image/png": "[encoded data removed]",
      "text/plain": [
       "<matplotlib.figure.Figure at 0x26d01a9ed68>"
      ]
     },
     "metadata": {},
     "output_type": "display_data"
    }
   ],
   "source": [
    "import numpy as np\n",
    "import time\n",
    "import matplotlib.pyplot as plt\n",
    "\n",
    "# Initialize variables for this exerise\n",
    "x = np.linspace(-4, 4, 2000)\n",
    "y = np.linspace(-4, 4, 2000)\n",
    "xx, yy = np.meshgrid(x, y)\n",
    "f = xx**2 - 2*yy**2\n",
    "\n",
    "# Nonvectorized implementation\n",
    "t0 = time.time()\n",
    "f2 = np.empty([f.shape[0], f.shape[1]], dtype=bool)\n",
    "for idx in range(0, f.shape[0]):\n",
    "    for idy in range(0, f.shape[1]):\n",
    "        f2[idx, idy] = (f[idx, idy] > 0)\n",
    "t1 = time.time()\n",
    "time1 = t1 - t0\n",
    "\n",
    "# Vectorized implementation\n",
    "t0 = time.time()\n",
    "f3 = (f > 0)\n",
    "t1 = time.time()\n",
    "time2 = t1 - t0\n",
    "diff = time1/time2 \n",
    "\n",
    "# Print the time for each and the speed increase\n",
    "print(\"a) Time [sec] (non-vectorized): \" + '{:.6f}'.format(time1))\n",
    "print(\"Time [sec] (vectorized): \" + '{:.6f}'.format(time2))\n",
    "print(\"The vectorized code is {:.6f} times faster than the non-vectorized code\".format(diff))\n",
    "\n",
    "# Plot the result\n",
    "print(\"\")\n",
    "print(\"b)\")\n",
    "\n",
    "plt.figure(figsize = (9,4))\n",
    "plt.subplot(1, 2, 1)\n",
    "plt.imshow(f, extent = (-4, 4, -4, 4))\n",
    "plt.xlabel('x')\n",
    "plt.ylabel('y')\n",
    "plt.title('f(x, y)')\n",
    "plt.colorbar()\n",
    "\n",
    "plt.subplot(1, 2, 2)\n",
    "plt.imshow(f3, extent = (-4, 4, -4, 4), cmap = plt.cm.gray)\n",
    "plt.xlabel('x')\n",
    "plt.ylabel('y')\n",
    "plt.title('Threshold Graph')\n",
    "t = \"Above threshold = 1\"\n",
    "t2 = \"Below threshold = 0\"\n",
    "plt.text(7, 1, t, ha='left')\n",
    "plt.text(7, 0, t2, ha='left')\n",
    "plt.colorbar()\n",
    "plt.show()\n"
   ]
  },
  {
   "cell_type": "markdown",
   "metadata": {},
   "source": [
    "## 9\n",
    "This exercise will walk through some basic numerical programming exercises.\n",
    "1. Synthesize $n=10^4$ normally distributed data points with mean $\\mu=2$ and a standard deviation of $\\sigma=1$. Call these observations from a random variable $X$, and call the vector of observations that you generate, $\\textbf{x}$.\n",
    "2. Calculate the mean and standard deviation of $\\textbf{x}$ to validate (1) and provide the result to a precision of four significant figures.\n",
    "3. Plot a histogram of the data in $\\textbf{x}$ with 30 bins\n",
    "4. What is the 90th percentile of $\\textbf{x}$? The 90th percentile is the value below which 90% of observations can be found.\n",
    "5. What is the 99th percentile of $\\textbf{x}$?\n",
    "6. Now synthesize $n=10^4$ normally distributed data points with mean $\\mu=0$ and a standard deviation of $\\sigma=3$. Call these observations from a random variable $Y$, and call the vector of observations that you generate, $\\textbf{y}$.\n",
    "7. Plot the histogram of the data in $\\textbf{y}$ on a (new) plot with the histogram of $\\textbf{x}$, so that both histograms can be seen and compared.\n",
    "8. Using the observations from $\\textbf{x}$ and $\\textbf{y}$, estimate $E[XY]$"
   ]
  },
  {
   "cell_type": "markdown",
   "metadata": {},
   "source": [
    "**ANSWER**"
   ]
  },
  {
   "cell_type": "code",
   "execution_count": 54,
   "metadata": {},
   "outputs": [
    {
     "name": "stdout",
     "output_type": "stream",
     "text": [
      "\n",
      "1. See code above \n",
      "\n",
      "2. The mean is 2.011\n",
      "The standard deviation is 1.016 \n",
      "\n",
      "3.\n"
     ]
    },
    {
     "data": {
      "image/png": "[encoded data removed]",
      "text/plain": [
       "<matplotlib.figure.Figure at 0x21b00bf00f0>"
      ]
     },
     "metadata": {},
     "output_type": "display_data"
    },
    {
     "name": "stdout",
     "output_type": "stream",
     "text": [
      "4. The 90th percentile of x is 3.325 \n",
      "\n",
      "5. The 99th percentile of x is 4.385 \n",
      "\n",
      "6. See code above \n",
      "\n",
      "7.\n"
     ]
    },
    {
     "data": {
      "image/png": "[encoded data removed]",
      "text/plain": [
       "<matplotlib.figure.Figure at 0x21b6ef38198>"
      ]
     },
     "metadata": {},
     "output_type": "display_data"
    },
    {
     "name": "stdout",
     "output_type": "stream",
     "text": [
      "8. An estimation for E[XY] is -0.065\n"
     ]
    }
   ],
   "source": [
    "import numpy as np\n",
    "import matplotlib.pyplot as plt\n",
    "\n",
    "# 1\n",
    "x = np.random.normal(loc = 2, scale = 1, size = 10**4)\n",
    "print(\"\")\n",
    "print(\"1. See code above \\n\")\n",
    "\n",
    "# 2\n",
    "print(\"2. The mean is {:.3f}\".format(np.mean(x)))\n",
    "print(\"The standard deviation is {:.3f} \\n\".format(np.std(x)))\n",
    "\n",
    "# 3\n",
    "print(\"3.\")\n",
    "plt.hist(x, 30, edgecolor='black', linewidth=1)\n",
    "plt.xlabel('Value')\n",
    "plt.ylabel('Frequency')\n",
    "plt.title('Observations from Random Variable X')\n",
    "plt.show()\n",
    "\n",
    "# 4\n",
    "print(\"4. The 90th percentile of x is {:.3f} \\n\".format(np.percentile(x, 90)))\n",
    "\n",
    "# 5\n",
    "print(\"5. The 99th percentile of x is {:.3f} \\n\".format(np.percentile(x, 99)))\n",
    "\n",
    "# 6\n",
    "print(\"6. See code above \\n\")\n",
    "y = np.random.normal(loc = 0, scale = 3, size = 10**4)\n",
    "\n",
    "# 7\n",
    "print(\"7.\")\n",
    "plt.hist(x, 30, edgecolor='black', linewidth=1, alpha=0.75)\n",
    "plt.hist(y, 30, edgecolor='black', linewidth =1, alpha=0.3)\n",
    "plt.title('Observations from Random Variables X and Y')\n",
    "plt.xlabel('Value')\n",
    "plt.ylabel('Frequency')\n",
    "plt.legend(['x', 'y'])\n",
    "plt.show()\n",
    "\n",
    "# 8\n",
    "print(\"8. An estimation for E[XY] is {:.3f}\".format(np.mean(x)*np.mean(y)))"
   ]
  },
  {
   "cell_type": "markdown",
   "metadata": {},
   "source": [
    "## 10\n",
    "Estimate the integral of the function $f(x)$ on the interval $0\\leq x < 2.5$ assuming we only know the following points from $f$:\n",
    "\n",
    "*Table 1. Dataset containing n=5 observations*\n",
    "\n",
    "| $x_i$ | 0.0 | 0.5 | 1.0 | 1.5 | 2.0 |\n",
    "|-|-|-|-|-|-|\n",
    "| $y_i$ | 6 | 7 | 8 | 4 | 1 |\n"
   ]
  },
  {
   "cell_type": "markdown",
   "metadata": {},
   "source": [
    "**ANSWER**\n",
    "\n",
    "$\\int_{0}^{2.5} f(x) \\approx \\tfrac{6+7}{2}(0.5) + \\tfrac{7+8}{2}(0.5) + \\tfrac{8+4}{2}(0.5) + \\tfrac{4+1}{2}(0.5) + \\tfrac{1+0}{2}(0.5) \\\\\n",
    "\\int_{0}^{2.5} f(x) \\approx 11.5$\n",
    "\n"
   ]
  },
  {
   "cell_type": "markdown",
   "metadata": {
    "collapsed": true
   },
   "source": [
    "# Version Control via Git"
   ]
  },
  {
   "cell_type": "markdown",
   "metadata": {},
   "source": [
    "## 11\n",
    "Complete the [Atlassian Git tutorial](https://www.atlassian.com/git/tutorials/what-is-version-control), specifically the following sections. Try each concept that's presented. For this tutorial, instead of using BitBucket, use Github. Create a github account here if you don't already have one: https://github.com/\n",
    "1. [What is version control](https://www.atlassian.com/git/tutorials/what-is-version-control)\n",
    "2. [What is Git](https://www.atlassian.com/git/tutorials/what-is-git)\n",
    "3. [Install Git](https://www.atlassian.com/git/tutorials/install-git)\n",
    "4. [Setting up a repository](https://www.atlassian.com/git/tutorials/install-git)\n",
    "5. [Saving changes](https://www.atlassian.com/git/tutorials/saving-changes)\n",
    "6. [Inspecting a repository](https://www.atlassian.com/git/tutorials/inspecting-a-repository)\n",
    "7. [Undoing changes](https://www.atlassian.com/git/tutorials/undoing-changes)\n",
    "8. [Rewriting history](https://www.atlassian.com/git/tutorials/rewriting-history)\n",
    "9. [Syncing](https://www.atlassian.com/git/tutorials/syncing)\n",
    "10. [Making a pull request](https://www.atlassian.com/git/tutorials/making-a-pull-request)\n",
    "11. [Using branches](https://www.atlassian.com/git/tutorials/using-branches)\n",
    "12. [Comparing workflows](https://www.atlassian.com/git/tutorials/comparing-workflows)\n",
    "\n",
    "For your answer, affirm that you either completed the tutorial or have previous experience with all of the concepts above. Do this by typing your name below and selecting the situation that applies from the two options in brackets."
   ]
  },
  {
   "cell_type": "markdown",
   "metadata": {},
   "source": [
    "**ANSWER**\n",
    "\n",
    "*I, Morgan Ringel, affirm that I have previous experience that covers all the content in this tutorial.*"
   ]
  },
  {
   "cell_type": "markdown",
   "metadata": {},
   "source": [
    "## 12\n",
    "Using Github to create a static HTML website:\n",
    "1. Create a branch in your `machine-learning-course` repo called \"gh-pages\" and checkout that branch (this will provide an example of how to create a simple static website using [Github Pages](https://pages.github.com/))\n",
    "2. Create a file called \"index.html\" with the contents \"Hello World\" and add, commit, and push it to that branch.\n",
    "3. Submit the following: (a) a link to your github repository and (b) a link to your new \"Hello World\" website. The latter should be at the address https://[USERNAME].github.io/ECE590-assignment0 (where [USERNAME] is your github username)."
   ]
  },
  {
   "cell_type": "markdown",
   "metadata": {},
   "source": [
    "**ANSWER**\n",
    "\n",
    "(a) Link to github repository: https://github.com/mjr52/machine-learning-course\n",
    "\n",
    "(b) Link to \"Hello World\" website: https://mjr52.github.io/machine-learning-course/\n",
    "\n"
   ]
  },
  {
   "cell_type": "markdown",
   "metadata": {
    "collapsed": true
   },
   "source": [
    "# Exploratory Data Analysis\n",
    "## 13\n",
    "Here you'll bring together some of the individual skills that you demonstrated above and create a Jupyter notebook based blog post on data analysis.\n",
    "\n",
    "1. Find a dataset that interests you and relates to a question or problem that you find intriguing\n",
    "2. Using a Jupyter notebook, describe the dataset, the source of the data, and the reason the dataset was of interest.\n",
    "3. Check the data and see if they need to be cleaned: are there missing values? Are there clearly erroneous values? Do two tables need to be merged together? Clean the data so it can be visualized.\n",
    "3. Plot the data, demonstrating interesting features that you discover. Are there any relationships between variables that were surprising or patterns that emerged? Please exercise creativity and curiosity in your plots.\n",
    "4. What insights are you able to take away from exploring the data? Is there a reason why analyzing the dataset you chose is particularly interesting or important? Summarize this as if your target audience was the readership of a major news organization - boil down your findings in a way that is accessible, but still accurate.\n",
    "5. Create a public repository on your github account titled \"machine-learning-course\". In it, create a readme file that contains the heading \"ECE590: Introductory Machine Learning for Data Science\". Add, commit, and push that Jupyter notebook to the master branch. Provide the link to the that post here."
   ]
  },
  {
   "cell_type": "markdown",
   "metadata": {},
   "source": [
    "**ANSWER**\n",
    "\n",
    "Link to Exploratory Data Analysis Jupyter Notebook: https://github.com/mjr52/machine-learning-course/blob/master/Exploratory%20Data%20Analysis.ipynb\n",
    "\n"
   ]
  }
 ],
 "metadata": {
  "kernelspec": {
   "display_name": "Python 3",
   "language": "python",
   "name": "python3"
  },
  "language_info": {
   "codemirror_mode": {
    "name": "ipython",
    "version": 3
   },
   "file_extension": ".py",
   "mimetype": "text/x-python",
   "name": "python",
   "nbconvert_exporter": "python",
   "pygments_lexer": "ipython3",
   "version": "3.6.3"
  }
 },
 "nbformat": 4,
 "nbformat_minor": 2
}
